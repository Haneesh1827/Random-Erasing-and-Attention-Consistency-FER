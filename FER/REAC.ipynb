{
  "nbformat": 4,
  "nbformat_minor": 0,
  "metadata": {
    "colab": {
      "provenance": []
    },
    "kernelspec": {
      "name": "python3",
      "display_name": "Python 3"
    },
    "language_info": {
      "name": "python"
    },
    "accelerator": "GPU",
    "gpuClass": "standard"
  },
  "cells": [
    {
      "cell_type": "markdown",
      "source": [
        "UTILS\n"
      ],
      "metadata": {
        "id": "sYg2m4majKer"
      }
    },
    {
      "cell_type": "code",
      "source": [
        "gpu_info = !nvidia-smi\n",
        "gpu_info = '\\n'.join(gpu_info)\n",
        "if gpu_info.find('failed') >= 0:\n",
        "  print('Select the Runtime > \"Change runtime type\" menu to enable a GPU accelerator, ')\n",
        "  print('and then re-execute this cell.')\n",
        "else:\n",
        "  print(gpu_info)"
      ],
      "metadata": {
        "id": "9RAPQFVnTEDX",
        "colab": {
          "base_uri": "https://localhost:8080/"
        },
        "outputId": "28c7a360-f191-4876-af40-fd9477ae3d6c"
      },
      "execution_count": null,
      "outputs": [
        {
          "output_type": "stream",
          "name": "stdout",
          "text": [
            "Mon Apr 24 22:02:26 2023       \n",
            "+-----------------------------------------------------------------------------+\n",
            "| NVIDIA-SMI 525.85.12    Driver Version: 525.85.12    CUDA Version: 12.0     |\n",
            "|-------------------------------+----------------------+----------------------+\n",
            "| GPU  Name        Persistence-M| Bus-Id        Disp.A | Volatile Uncorr. ECC |\n",
            "| Fan  Temp  Perf  Pwr:Usage/Cap|         Memory-Usage | GPU-Util  Compute M. |\n",
            "|                               |                      |               MIG M. |\n",
            "|===============================+======================+======================|\n",
            "|   0  Tesla T4            Off  | 00000000:00:04.0 Off |                    0 |\n",
            "| N/A   42C    P8     9W /  70W |      0MiB / 15360MiB |      0%      Default |\n",
            "|                               |                      |                  N/A |\n",
            "+-------------------------------+----------------------+----------------------+\n",
            "                                                                               \n",
            "+-----------------------------------------------------------------------------+\n",
            "| Processes:                                                                  |\n",
            "|  GPU   GI   CI        PID   Type   Process name                  GPU Memory |\n",
            "|        ID   ID                                                   Usage      |\n",
            "|=============================================================================|\n",
            "|  No running processes found                                                 |\n",
            "+-----------------------------------------------------------------------------+\n"
          ]
        }
      ]
    },
    {
      "cell_type": "code",
      "source": [
        "import zipfile\n",
        "\n",
        "# Specify the path to the ZIP file\n",
        "zip_path = '/content/drive/MyDrive/basic/Image/aligned.zip'\n",
        "\n",
        "# Specify the path to the destination folder\n",
        "dest_path = '/content/aligned'\n",
        "\n",
        "# Open the ZIP file\n",
        "with zipfile.ZipFile(zip_path, 'r') as zip_ref:\n",
        "    # Extract the contents of the subfolder to the destination folder\n",
        "    zip_ref.extractall(dest_path)\n"
      ],
      "metadata": {
        "id": "fYOjaYNN_fAH"
      },
      "execution_count": null,
      "outputs": []
    },
    {
      "cell_type": "code",
      "source": [
        "class Args():\n",
        "\n",
        "    def __init__(self):\n",
        "      self.raf_path = '/content/drive/MyDrive/basic'\n",
        "      self.resnet50_path ='/content/drive/MyDrive/resnet50_ft_weight (1).pkl'\n",
        "      self.label_path = 'list_patition_label.txt'\n",
        "      self.workers = 4\n",
        "      self.batch_size= 32\n",
        "      self.w =7\n",
        "      self.h = 7\n",
        "      self.gpu = 0\n",
        "      self.lam = 5.0\n",
        "      self.epochs = 60\n",
        "\n",
        "args = Args()"
      ],
      "metadata": {
        "id": "ZHs_a5_Bhm05"
      },
      "execution_count": null,
      "outputs": []
    },
    {
      "cell_type": "code",
      "source": [
        "import torch\n",
        "import cv2\n",
        "import numpy as np\n",
        "import random\n"
      ],
      "metadata": {
        "id": "atP3E2EXiG05"
      },
      "execution_count": null,
      "outputs": []
    },
    {
      "cell_type": "code",
      "source": [
        "def add_g(image_array, mean=0.0, var=30):\n",
        "    std = var ** 0.5\n",
        "    image_add = image_array + np.random.normal(mean, std, image_array.shape)\n",
        "    image_add = np.clip(image_add, 0, 255).astype(np.uint8)\n",
        "    return image_add"
      ],
      "metadata": {
        "id": "FrDdFh1diGq5"
      },
      "execution_count": null,
      "outputs": []
    },
    {
      "cell_type": "code",
      "source": [
        "def flip_image(image_array):\n",
        "    return cv2.flip(image_array, 1)"
      ],
      "metadata": {
        "id": "XBW7LyIwiGiO"
      },
      "execution_count": null,
      "outputs": []
    },
    {
      "cell_type": "code",
      "source": [
        "def setup_seed(seed):\n",
        "    torch.manual_seed(seed)\n",
        "    torch.cuda.manual_seed_all(seed)\n",
        "    np.random.seed(seed)\n",
        "    random.seed(seed)\n",
        "    torch.backends.cudnn.deterministic = True"
      ],
      "metadata": {
        "id": "fmetiYEXiGed"
      },
      "execution_count": null,
      "outputs": []
    },
    {
      "cell_type": "code",
      "source": [
        "def generate_flip_grid(w, h, device):\n",
        "    # used to flip attention maps\n",
        "    x_ = torch.arange(w).view(1, -1).expand(h, -1)\n",
        "    y_ = torch.arange(h).view(-1, 1).expand(-1, w)\n",
        "    grid = torch.stack([x_, y_], dim=0).float().to(device)\n",
        "    grid = grid.unsqueeze(0).expand(1, -1, -1, -1)\n",
        "    grid[:, 0, :, :] = 2 * grid[:, 0, :, :] / (w - 1) - 1\n",
        "    grid[:, 1, :, :] = 2 * grid[:, 1, :, :] / (h - 1) - 1\n",
        "    grid[:, 0, :, :] = -grid[:, 0, :, :]\n",
        "    return grid"
      ],
      "metadata": {
        "id": "CNaJJZgeiGaF"
      },
      "execution_count": null,
      "outputs": []
    },
    {
      "cell_type": "markdown",
      "source": [
        "DATASET CLASS"
      ],
      "metadata": {
        "id": "TZswKhp8jPKE"
      }
    },
    {
      "cell_type": "code",
      "source": [
        "import os\n",
        "import cv2\n",
        "import torch.utils.data as data\n",
        "import pandas as pd\n",
        "import random\n",
        "from torchvision import transforms"
      ],
      "metadata": {
        "id": "DYgVw4L0iGUZ"
      },
      "execution_count": null,
      "outputs": []
    },
    {
      "cell_type": "code",
      "source": [
        "class RafDataset(data.Dataset):\n",
        "    def __init__(self, args, phase, basic_aug=True, transform=None):\n",
        "        self.raf_path = args.raf_path\n",
        "        self.phase = phase\n",
        "        self.basic_aug = basic_aug\n",
        "        self.transform = transform\n",
        "        df = pd.read_csv(os.path.join(self.raf_path, 'EmoLabel', args.label_path), sep=' ', header=None)\n",
        "\n",
        "        name_c = 0\n",
        "        label_c = 1\n",
        "        if phase == 'train':\n",
        "            dataset = df[df[name_c].str.startswith('train')]\n",
        "        else:\n",
        "            df = pd.read_csv(os.path.join(self.raf_path, 'EmoLabel/list_patition_label.txt'), sep=' ', header=None)\n",
        "            dataset = df[df[name_c].str.startswith('test')]\n",
        "\n",
        "        self.label = dataset.iloc[:, label_c].values - 1\n",
        "        images_names = dataset.iloc[:, name_c].values\n",
        "        self.aug_func = [flip_image, add_g]\n",
        "        self.file_paths = []\n",
        "        self.clean = (args.label_path == 'list_patition_label.txt')\n",
        "\n",
        "        for f in images_names:\n",
        "            f = f.split(\".\")[0]\n",
        "            f += '_aligned.jpg'\n",
        "            file_name = os.path.join('/content/aligned/aligned', f)\n",
        "            self.file_paths.append(file_name)\n",
        "\n",
        "\n",
        "    def __len__(self):\n",
        "        return len(self.file_paths)\n",
        "\n",
        "    def __getitem__(self, idx):\n",
        "        label = self.label[idx]\n",
        "        image = cv2.imread(self.file_paths[idx])\n",
        "\n",
        "        image = image[:, :, ::-1]\n",
        "\n",
        "\n",
        "        if not self.clean:\n",
        "            image1 = image\n",
        "            image1 = self.aug_func[0](image)\n",
        "            image1 = self.transform(image1)\n",
        "\n",
        "        if self.phase == 'train':\n",
        "            if self.basic_aug and random.uniform(0, 1) > 0.5:\n",
        "                image = self.aug_func[1](image)\n",
        "\n",
        "        if self.transform is not None:\n",
        "            image = self.transform(image)\n",
        "\n",
        "        if self.clean:\n",
        "            image1 = transforms.RandomHorizontalFlip(p=1)(image)\n",
        "\n",
        "        return image, label, idx, image1"
      ],
      "metadata": {
        "id": "HTWjdKChiGPJ"
      },
      "execution_count": null,
      "outputs": []
    },
    {
      "cell_type": "code",
      "source": [
        "label_file =\"/content/drive/MyDrive/basic/EmoLabel/list_patition_label.txt\"\n",
        "alignedimages_file = \"/content/drive/MyDrive/basic/Image/aligned.zip\"\n",
        "train_transforms = transforms.Compose([\n",
        "        transforms.ToPILImage(),\n",
        "        transforms.Resize((224, 224)),\n",
        "        transforms.ToTensor(),\n",
        "        transforms.Normalize(mean=[0.485, 0.456, 0.406],\n",
        "                             std=[0.229, 0.224, 0.225]),\n",
        "        transforms.RandomErasing(scale=(0.02, 0.25)) ])\n",
        "\n",
        "train_dataset = RafDataset(args, phase='train', transform= train_transforms)\n",
        "len(train_dataset)\n",
        "#test_dataset = RafDataset(args, phase='test', transform=eval_transforms)"
      ],
      "metadata": {
        "id": "GcFoz-HkSQkP",
        "colab": {
          "base_uri": "https://localhost:8080/"
        },
        "outputId": "9bd6c228-ebea-4b6a-9f25-b1e2adac258e"
      },
      "execution_count": null,
      "outputs": [
        {
          "output_type": "execute_result",
          "data": {
            "text/plain": [
              "12271"
            ]
          },
          "metadata": {},
          "execution_count": 11
        }
      ]
    },
    {
      "cell_type": "code",
      "source": [
        "train_loader = torch.utils.data.DataLoader(train_dataset,\n",
        "                                               batch_size=args.batch_size,\n",
        "                                               shuffle=True,\n",
        "                                               num_workers=args.workers,\n",
        "                                               pin_memory=True)\n",
        "images,labels,idx,images1 = next(iter(train_loader))"
      ],
      "metadata": {
        "id": "lGF2XETGhV58",
        "colab": {
          "base_uri": "https://localhost:8080/"
        },
        "outputId": "b0079e05-a791-40cb-c0a3-8fcc80fe7e5b"
      },
      "execution_count": null,
      "outputs": [
        {
          "output_type": "stream",
          "name": "stderr",
          "text": [
            "/usr/local/lib/python3.9/dist-packages/torch/utils/data/dataloader.py:561: UserWarning: This DataLoader will create 4 worker processes in total. Our suggested max number of worker in current system is 2, which is smaller than what this DataLoader is going to create. Please be aware that excessive worker creation might get DataLoader running slow or even freeze, lower the worker number to avoid potential slowness/freeze if necessary.\n",
            "  warnings.warn(_create_warning_msg(\n"
          ]
        }
      ]
    },
    {
      "cell_type": "code",
      "source": [
        "import pandas as pd\n",
        "df = pd.read_csv(\"/content/drive/MyDrive/basic/EmoLabel/list_patition_label.txt\", delim_whitespace=True, header=None)\n",
        "print(df.iloc[:,0])"
      ],
      "metadata": {
        "colab": {
          "base_uri": "https://localhost:8080/"
        },
        "id": "RnwIki-nMkTS",
        "outputId": "b8c32ef9-ec5c-4e27-b9de-28286a76957a"
      },
      "execution_count": null,
      "outputs": [
        {
          "output_type": "stream",
          "name": "stdout",
          "text": [
            "0        train_00001.jpg\n",
            "1        train_00002.jpg\n",
            "2        train_00003.jpg\n",
            "3        train_00004.jpg\n",
            "4        train_00005.jpg\n",
            "              ...       \n",
            "15334      test_3064.jpg\n",
            "15335      test_3065.jpg\n",
            "15336      test_3066.jpg\n",
            "15337      test_3067.jpg\n",
            "15338      test_3068.jpg\n",
            "Name: 0, Length: 15339, dtype: object\n"
          ]
        }
      ]
    },
    {
      "cell_type": "markdown",
      "source": [
        "ResNet\n"
      ],
      "metadata": {
        "id": "Yod4x6qtjTv5"
      }
    },
    {
      "cell_type": "code",
      "source": [
        "import torch\n",
        "import torch.nn as nn\n",
        "import math"
      ],
      "metadata": {
        "id": "pod1aBTfiGGR"
      },
      "execution_count": null,
      "outputs": []
    },
    {
      "cell_type": "code",
      "source": [
        "class Flatten(nn.Module):\n",
        "    def forward(self, input):\n",
        "        return input.view(input.size(0), -1)\n",
        ""
      ],
      "metadata": {
        "id": "it8MKhYUiF7a"
      },
      "execution_count": null,
      "outputs": []
    },
    {
      "cell_type": "code",
      "source": [
        "def conv3x3(in_planes, out_planes, stride=1):\n",
        "    \"\"\"3x3 convolution with padding\"\"\"\n",
        "    return nn.Conv2d(in_planes, out_planes, kernel_size=3, stride=stride,\n",
        "                     padding=1, bias=False)"
      ],
      "metadata": {
        "id": "y_CYq2BViFip"
      },
      "execution_count": null,
      "outputs": []
    },
    {
      "cell_type": "code",
      "source": [
        "class BasicBlock(nn.Module):\n",
        "    expansion = 1\n",
        "\n",
        "    def __init__(self, inplanes, planes, stride=1, downsample=None):\n",
        "        super(BasicBlock, self).__init__()\n",
        "        self.conv1 = conv3x3(inplanes, planes, stride)\n",
        "        self.bn1 = nn.BatchNorm2d(planes)\n",
        "        self.relu = nn.ReLU(inplace=True)\n",
        "        self.conv2 = conv3x3(planes, planes)\n",
        "        self.bn2 = nn.BatchNorm2d(planes)\n",
        "        self.downsample = downsample\n",
        "        self.stride = stride\n",
        "\n",
        "    def forward(self, x):\n",
        "        residual = x\n",
        "\n",
        "        out = self.conv1(x)\n",
        "        out = self.bn1(out)\n",
        "        out = self.relu(out)\n",
        "\n",
        "        out = self.conv2(out)\n",
        "        out = self.bn2(out)\n",
        "\n",
        "        if self.downsample is not None:\n",
        "            residual = self.downsample(x)\n",
        "\n",
        "        out += residual\n",
        "        out = self.relu(out)\n",
        "\n",
        "        return out\n"
      ],
      "metadata": {
        "id": "5cbsfRmgjrMK"
      },
      "execution_count": null,
      "outputs": []
    },
    {
      "cell_type": "code",
      "source": [
        "class Bottleneck(nn.Module):\n",
        "    expansion = 4\n",
        "\n",
        "    def __init__(self, inplanes, planes, stride=1, downsample=None):\n",
        "        super(Bottleneck, self).__init__()\n",
        "        self.conv1 = nn.Conv2d(inplanes, planes, kernel_size=1, stride=stride, bias=False)\n",
        "        self.bn1 = nn.BatchNorm2d(planes)\n",
        "        self.conv2 = nn.Conv2d(planes, planes, kernel_size=3, stride=1, padding=1, bias=False)\n",
        "        self.bn2 = nn.BatchNorm2d(planes)\n",
        "        self.conv3 = nn.Conv2d(planes, planes * 4, kernel_size=1, bias=False)\n",
        "        self.bn3 = nn.BatchNorm2d(planes * 4)\n",
        "        self.relu = nn.ReLU(inplace=True)\n",
        "        self.downsample = downsample\n",
        "        self.stride = stride\n",
        "\n",
        "    def forward(self, x):\n",
        "        residual = x\n",
        "\n",
        "        out = self.conv1(x)\n",
        "        out = self.bn1(out)\n",
        "        out = self.relu(out)\n",
        "\n",
        "        out = self.conv2(out)\n",
        "        out = self.bn2(out)\n",
        "        out = self.relu(out)\n",
        "\n",
        "        out = self.conv3(out)\n",
        "        out = self.bn3(out)\n",
        "\n",
        "        if self.downsample is not None:\n",
        "            residual = self.downsample(x)\n",
        "\n",
        "        out += residual\n",
        "        out = self.relu(out)\n",
        "\n",
        "        return out"
      ],
      "metadata": {
        "id": "cOiNGOcmjrJC"
      },
      "execution_count": null,
      "outputs": []
    },
    {
      "cell_type": "code",
      "source": [
        "class ResNet(nn.Module):\n",
        "\n",
        "    def __init__(self, block, layers, num_classes=8631, include_top=True):\n",
        "        self.inplanes = 64\n",
        "        super(ResNet, self).__init__()\n",
        "        self.include_top = include_top\n",
        "\n",
        "        self.conv1 = nn.Conv2d(3, 64, kernel_size=7, stride=2, padding=3, bias=False)\n",
        "        self.bn1 = nn.BatchNorm2d(64)\n",
        "        self.relu = nn.ReLU(inplace=True)\n",
        "        self.maxpool = nn.MaxPool2d(kernel_size=3, stride=2, padding=0, ceil_mode=True)\n",
        "\n",
        "        self.layer1 = self._make_layer(block, 64, layers[0])\n",
        "        self.layer2 = self._make_layer(block, 128, layers[1], stride=2)\n",
        "        self.layer3 = self._make_layer(block, 256, layers[2], stride=2)\n",
        "        self.layer4 = self._make_layer(block, 512, layers[3], stride=2)\n",
        "        self.avgpool = nn.AvgPool2d(7, stride=1)\n",
        "        self.fc = nn.Linear(512 * block.expansion, num_classes)\n",
        "\n",
        "        for m in self.modules():\n",
        "            if isinstance(m, nn.Conv2d):\n",
        "                n = m.kernel_size[0] * m.kernel_size[1] * m.out_channels\n",
        "                m.weight.data.normal_(0, math.sqrt(2. / n))\n",
        "            elif isinstance(m, nn.BatchNorm2d):\n",
        "                m.weight.data.fill_(1)\n",
        "                m.bias.data.zero_()\n",
        "\n",
        "    def _make_layer(self, block, planes, blocks, stride=1):\n",
        "        downsample = None\n",
        "        if stride != 1 or self.inplanes != planes * block.expansion:\n",
        "            downsample = nn.Sequential(\n",
        "                nn.Conv2d(self.inplanes, planes * block.expansion,\n",
        "                          kernel_size=1, stride=stride, bias=False),\n",
        "                nn.BatchNorm2d(planes * block.expansion),\n",
        "            )\n",
        "\n",
        "        layers = []\n",
        "        layers.append(block(self.inplanes, planes, stride, downsample))\n",
        "        self.inplanes = planes * block.expansion\n",
        "        for i in range(1, blocks):\n",
        "            layers.append(block(self.inplanes, planes))\n",
        "\n",
        "        return nn.Sequential(*layers)\n",
        "\n",
        "    def forward(self, x):\n",
        "        x = self.conv1(x)\n",
        "        x = self.bn1(x)\n",
        "        x = self.relu(x)\n",
        "        x = self.maxpool(x)\n",
        "\n",
        "        x = self.layer1(x)\n",
        "        x = self.layer2(x)\n",
        "        x = self.layer3(x)\n",
        "        x = self.layer4(x)\n",
        "\n",
        "        x = self.avgpool(x)\n",
        "\n",
        "        if not self.include_top:\n",
        "            return x\n",
        "\n",
        "        x = x.view(x.size(0), -1)\n",
        "        x = self.fc(x)\n",
        "        return x\n"
      ],
      "metadata": {
        "id": "hBe1yZGIjrF2"
      },
      "execution_count": null,
      "outputs": []
    },
    {
      "cell_type": "code",
      "source": [
        "if __name__ == '__main__':\n",
        "    res18 = ResNet(block=BasicBlock, n_blocks=[2, 2, 2, 2], channels=[64, 128, 256, 512], output_dim=1000)\n",
        "    input = torch.randn(1, 3, 224, 224)\n",
        "    output = res18(input)\n",
        "    print(output.size())"
      ],
      "metadata": {
        "colab": {
          "base_uri": "https://localhost:8080/",
          "height": 235
        },
        "id": "NVp3mJPojrC8",
        "outputId": "04ba9e6c-f1fa-4389-836a-986123050a51"
      },
      "execution_count": null,
      "outputs": [
        {
          "output_type": "error",
          "ename": "TypeError",
          "evalue": "ignored",
          "traceback": [
            "\u001b[0;31m---------------------------------------------------------------------------\u001b[0m",
            "\u001b[0;31mTypeError\u001b[0m                                 Traceback (most recent call last)",
            "\u001b[0;32m<ipython-input-18-dab7aa7e1299>\u001b[0m in \u001b[0;36m<cell line: 1>\u001b[0;34m()\u001b[0m\n\u001b[1;32m      1\u001b[0m \u001b[0;32mif\u001b[0m \u001b[0m__name__\u001b[0m \u001b[0;34m==\u001b[0m \u001b[0;34m'__main__'\u001b[0m\u001b[0;34m:\u001b[0m\u001b[0;34m\u001b[0m\u001b[0;34m\u001b[0m\u001b[0m\n\u001b[0;32m----> 2\u001b[0;31m     \u001b[0mres18\u001b[0m \u001b[0;34m=\u001b[0m \u001b[0mResNet\u001b[0m\u001b[0;34m(\u001b[0m\u001b[0mblock\u001b[0m\u001b[0;34m=\u001b[0m\u001b[0mBasicBlock\u001b[0m\u001b[0;34m,\u001b[0m \u001b[0mn_blocks\u001b[0m\u001b[0;34m=\u001b[0m\u001b[0;34m[\u001b[0m\u001b[0;36m2\u001b[0m\u001b[0;34m,\u001b[0m \u001b[0;36m2\u001b[0m\u001b[0;34m,\u001b[0m \u001b[0;36m2\u001b[0m\u001b[0;34m,\u001b[0m \u001b[0;36m2\u001b[0m\u001b[0;34m]\u001b[0m\u001b[0;34m,\u001b[0m \u001b[0mchannels\u001b[0m\u001b[0;34m=\u001b[0m\u001b[0;34m[\u001b[0m\u001b[0;36m64\u001b[0m\u001b[0;34m,\u001b[0m \u001b[0;36m128\u001b[0m\u001b[0;34m,\u001b[0m \u001b[0;36m256\u001b[0m\u001b[0;34m,\u001b[0m \u001b[0;36m512\u001b[0m\u001b[0;34m]\u001b[0m\u001b[0;34m,\u001b[0m \u001b[0moutput_dim\u001b[0m\u001b[0;34m=\u001b[0m\u001b[0;36m1000\u001b[0m\u001b[0;34m)\u001b[0m\u001b[0;34m\u001b[0m\u001b[0;34m\u001b[0m\u001b[0m\n\u001b[0m\u001b[1;32m      3\u001b[0m     \u001b[0minput\u001b[0m \u001b[0;34m=\u001b[0m \u001b[0mtorch\u001b[0m\u001b[0;34m.\u001b[0m\u001b[0mrandn\u001b[0m\u001b[0;34m(\u001b[0m\u001b[0;36m1\u001b[0m\u001b[0;34m,\u001b[0m \u001b[0;36m3\u001b[0m\u001b[0;34m,\u001b[0m \u001b[0;36m224\u001b[0m\u001b[0;34m,\u001b[0m \u001b[0;36m224\u001b[0m\u001b[0;34m)\u001b[0m\u001b[0;34m\u001b[0m\u001b[0;34m\u001b[0m\u001b[0m\n\u001b[1;32m      4\u001b[0m     \u001b[0moutput\u001b[0m \u001b[0;34m=\u001b[0m \u001b[0mres18\u001b[0m\u001b[0;34m(\u001b[0m\u001b[0minput\u001b[0m\u001b[0;34m)\u001b[0m\u001b[0;34m\u001b[0m\u001b[0;34m\u001b[0m\u001b[0m\n\u001b[1;32m      5\u001b[0m     \u001b[0mprint\u001b[0m\u001b[0;34m(\u001b[0m\u001b[0moutput\u001b[0m\u001b[0;34m.\u001b[0m\u001b[0msize\u001b[0m\u001b[0;34m(\u001b[0m\u001b[0;34m)\u001b[0m\u001b[0;34m)\u001b[0m\u001b[0;34m\u001b[0m\u001b[0;34m\u001b[0m\u001b[0m\n",
            "\u001b[0;31mTypeError\u001b[0m: __init__() got an unexpected keyword argument 'n_blocks'"
          ]
        }
      ]
    },
    {
      "cell_type": "markdown",
      "source": [
        "MODEL"
      ],
      "metadata": {
        "id": "6KyrmNnxkGNa"
      }
    },
    {
      "cell_type": "code",
      "source": [
        "import pickle\n",
        "import torchvision.models as mo\n",
        "from torch.autograd import Variable"
      ],
      "metadata": {
        "id": "EumtPaxlkFpK"
      },
      "execution_count": null,
      "outputs": []
    },
    {
      "cell_type": "code",
      "source": [
        "class Model(nn.Module):\n",
        "\n",
        "\n",
        "    def __init__(self, args, pretrained=True, num_classes=7):\n",
        "        super(Model, self).__init__()\n",
        "        resnet50 = ResNet(Bottleneck, [3, 4, 6, 3])\n",
        "        with open(args.resnet50_path, 'rb') as f:\n",
        "            obj = f.read()\n",
        "        weights = {key: torch.from_numpy(arr) for key, arr in pickle.loads(obj, encoding='latin1').items()}\n",
        "        resnet50.load_state_dict(weights)\n",
        "\n",
        "        self.features = nn.Sequential(*list(resnet50.children())[:-2])\n",
        "        self.features2 = nn.Sequential(*list(resnet50.children())[-2:-1])\n",
        "        self.fc = nn.Linear(2048, 7)\n",
        "\n",
        "\n",
        "\n",
        "    def forward(self, x):\n",
        "        x = self.features(x)\n",
        "        #### 1, 2048, 7, 7\n",
        "        feature = self.features2(x)\n",
        "        #### 1, 2048, 1, 1\n",
        "\n",
        "        feature = feature.view(feature.size(0), -1)\n",
        "        output = self.fc(feature)\n",
        "\n",
        "        params = list(self.parameters())\n",
        "        fc_weights = params[-2].data\n",
        "        fc_weights = fc_weights.view(1, 7, 2048, 1, 1)\n",
        "        fc_weights = Variable(fc_weights, requires_grad = False)\n",
        "\n",
        "        # attention\n",
        "        feat = x.unsqueeze(1) # N * 1 * C * H * W\n",
        "        hm = feat * fc_weights\n",
        "        hm = hm.sum(2) # N * self.num_labels * H * W\n",
        "\n",
        "        return output, hm"
      ],
      "metadata": {
        "id": "6XgaYE3zjq_0"
      },
      "execution_count": null,
      "outputs": []
    },
    {
      "cell_type": "markdown",
      "source": [
        "ACL\n"
      ],
      "metadata": {
        "id": "UJoh6YjjkmGg"
      }
    },
    {
      "cell_type": "code",
      "source": [
        "import torch.nn.functional as F\n",
        "from torch.autograd import Variable"
      ],
      "metadata": {
        "id": "F7wUb3ndjq8j"
      },
      "execution_count": null,
      "outputs": []
    },
    {
      "cell_type": "code",
      "source": [
        "def ACLoss(att_map1, att_map2, grid_l, output):\n",
        "    flip_grid_large = grid_l.expand(output.size(0), -1, -1, -1)\n",
        "    flip_grid_large = Variable(flip_grid_large, requires_grad = False)\n",
        "    flip_grid_large = flip_grid_large.permute(0, 2, 3, 1)\n",
        "    att_map2_flip = F.grid_sample(att_map2, flip_grid_large, mode = 'bilinear', padding_mode = 'border', align_corners=True)\n",
        "    flip_loss_l = F.mse_loss(att_map1, att_map2_flip)\n",
        "    return flip_loss_l"
      ],
      "metadata": {
        "id": "-jwugTXhjq41"
      },
      "execution_count": null,
      "outputs": []
    },
    {
      "cell_type": "code",
      "execution_count": null,
      "metadata": {
        "id": "VPGoI13CfA_6"
      },
      "outputs": [],
      "source": [
        "import os\n",
        "import cv2\n",
        "import csv\n",
        "import math\n",
        "import random\n",
        "import numpy as np\n",
        "import pandas as pd\n",
        "import argparse\n",
        "import pickle"
      ]
    },
    {
      "cell_type": "code",
      "source": [
        "import torch\n",
        "import torch.nn as nn\n",
        "from torchvision import transforms\n",
        "import torchvision.models as models\n",
        "import torch.utils.data as data\n",
        "import torch.nn.functional as F"
      ],
      "metadata": {
        "id": "SiWqCOMqhkTB"
      },
      "execution_count": null,
      "outputs": []
    },
    {
      "cell_type": "code",
      "source": [
        "def train(args, model, train_loader, optimizer, scheduler, device):\n",
        "    running_loss = 0.0\n",
        "    iter_cnt = 0\n",
        "    correct_sum = 0\n",
        "\n",
        "    model.to(device)\n",
        "    model.train()\n",
        "\n",
        "    total_loss = []\n",
        "    for batch_i, (imgs1, labels, indexes, imgs2) in enumerate(train_loader):\n",
        "        imgs1 = imgs1.to(device)\n",
        "        imgs2 = imgs2.to(device)\n",
        "        labels = labels.to(device)\n",
        "\n",
        "\n",
        "        criterion = nn.CrossEntropyLoss(reduction='none')\n",
        "\n",
        "\n",
        "\n",
        "        output, hm1 = model(imgs1)\n",
        "        output_flip, hm2 = model(imgs2)\n",
        "\n",
        "        grid_l = generate_flip_grid(args.w, args.h, device)\n",
        "\n",
        "\n",
        "        loss1 = nn.CrossEntropyLoss()(output, labels)\n",
        "        flip_loss_l = ACLoss(hm1, hm2, grid_l, output)\n",
        "\n",
        "\n",
        "        loss = loss1 + args.lam * flip_loss_l\n",
        "\n",
        "\n",
        "        optimizer.zero_grad()\n",
        "        loss.backward()\n",
        "        optimizer.step()\n",
        "\n",
        "\n",
        "        iter_cnt += 1\n",
        "        _, predicts = torch.max(output, 1)\n",
        "        correct_num = torch.eq(predicts, labels).sum()\n",
        "        correct_sum += correct_num\n",
        "        running_loss += loss\n",
        "\n",
        "    scheduler.step()\n",
        "    running_loss = running_loss / iter_cnt\n",
        "    acc = correct_sum.float() / float(train_loader.dataset.__len__())\n",
        "    torch.save(model.state_dict, \"EAC.pth\")\n",
        "    return acc, running_loss, model"
      ],
      "metadata": {
        "id": "XTCQjmXEhuiZ"
      },
      "execution_count": null,
      "outputs": []
    },
    {
      "cell_type": "code",
      "source": [],
      "metadata": {
        "id": "hC8sELs5VTuv"
      },
      "execution_count": null,
      "outputs": []
    },
    {
      "cell_type": "code",
      "source": [
        "def test(model, test_loader, device):\n",
        "    with torch.no_grad():\n",
        "        model.eval()\n",
        "\n",
        "        running_loss = 0.0\n",
        "        iter_cnt = 0\n",
        "        correct_sum = 0\n",
        "        data_num = 0\n",
        "\n",
        "\n",
        "        for batch_i, (imgs1, labels, indexes, imgs2) in enumerate(test_loader):\n",
        "            imgs1 = imgs1.to(device)\n",
        "            labels = labels.to(device)\n",
        "\n",
        "\n",
        "            outputs, _ = model(imgs1)\n",
        "\n",
        "\n",
        "            loss = nn.CrossEntropyLoss()(outputs, labels)\n",
        "\n",
        "            iter_cnt += 1\n",
        "            _, predicts = torch.max(outputs, 1)\n",
        "\n",
        "            correct_num = torch.eq(predicts, labels).sum()\n",
        "            correct_sum += correct_num\n",
        "\n",
        "            running_loss += loss\n",
        "            data_num += outputs.size(0)\n",
        "\n",
        "        running_loss = running_loss / iter_cnt\n",
        "        test_acc = correct_sum.float() / float(data_num)\n",
        "    return test_acc, running_loss"
      ],
      "metadata": {
        "id": "3IJRXzBBh1A4"
      },
      "execution_count": null,
      "outputs": []
    },
    {
      "cell_type": "code",
      "source": [
        "import torchvision\n",
        "\n",
        "setup_seed(0)\n",
        "\n",
        "train_transforms = transforms.Compose([\n",
        "        transforms.ToPILImage(),\n",
        "        transforms.Resize((224, 224)),\n",
        "        transforms.ToTensor(),\n",
        "        transforms.Normalize(mean=[0.485, 0.456, 0.406],\n",
        "                             std=[0.229, 0.224, 0.225]),\n",
        "        transforms.RandomErasing(scale=(0.02, 0.25)) ])\n",
        "\n",
        "eval_transforms = transforms.Compose([\n",
        "        transforms.ToPILImage(),\n",
        "        transforms.Resize((224, 224)),\n",
        "        transforms.ToTensor(),\n",
        "        transforms.Normalize(mean=[0.485, 0.456, 0.406],\n",
        "                             std=[0.229, 0.224, 0.225])])\n",
        "\n",
        "\n",
        "\n",
        "train_dataset = RafDataset(args, phase='train', transform=train_transforms)\n",
        "test_dataset = RafDataset(args, phase='test', transform=eval_transforms)\n",
        "\n",
        "\n",
        "\n",
        "train_loader = torch.utils.data.DataLoader(train_dataset,\n",
        "                                               batch_size=args.batch_size,\n",
        "                                               shuffle=True,\n",
        "                                               num_workers=args.workers,\n",
        "                                               pin_memory=True)\n",
        "test_loader = torch.utils.data.DataLoader(test_dataset, batch_size=args.batch_size,\n",
        "                                              shuffle=False,\n",
        "                                              num_workers=args.workers,\n",
        "                                              pin_memory=True)\n",
        "\n",
        "model = Model(args)\n",
        "\n",
        "device = torch.device ('cuda:0' if torch.cuda.is_available() else 'cpu')\n",
        "\n",
        "optimizer = torch.optim.Adam(model.parameters() , lr=0.0001, weight_decay=1e-4)\n",
        "scheduler = torch.optim.lr_scheduler.ExponentialLR(optimizer, gamma=0.9)\n",
        "\n",
        "\n",
        "\n",
        "\n",
        "\n",
        "for i in range(1, 41):\n",
        "    train_acc, train_loss, model = train(args, model, train_loader, optimizer, scheduler, device)\n",
        "    test_acc, test_loss = test(model, test_loader, device)\n",
        "    with open('rebuttal_50_noise_1'+str(args.label_path)+'.txt', 'a') as f:\n",
        "        f.write(str(i)+'_'+str(test_acc)+'_'+str(train_acc)+'\\n')\n",
        "    print('Accuracy after epoch_'+ str(i) +' :'+'Training_data_accuracy :'+ str(train_acc)+','+'Test_data_accuracy :'+ str(test_acc))\n",
        "    torch.save(model.state_dict(), \"EAC.pth\")\n",
        "\n"
      ],
      "metadata": {
        "colab": {
          "base_uri": "https://localhost:8080/"
        },
        "id": "NMdx1D33h94B",
        "outputId": "ecb82544-4b0b-41a6-a443-a29789f0c01e"
      },
      "execution_count": null,
      "outputs": [
        {
          "output_type": "stream",
          "name": "stdout",
          "text": [
            "Accuracy after epoch_1 :Training_data_accuracy :tensor(0.6704, device='cuda:0'),Test_data_accuracy :tensor(0.7888, device='cuda:0')\n",
            "Accuracy after epoch_2 :Training_data_accuracy :tensor(0.7842, device='cuda:0'),Test_data_accuracy :tensor(0.8321, device='cuda:0')\n",
            "Accuracy after epoch_3 :Training_data_accuracy :tensor(0.8214, device='cuda:0'),Test_data_accuracy :tensor(0.8380, device='cuda:0')\n",
            "Accuracy after epoch_4 :Training_data_accuracy :tensor(0.8451, device='cuda:0'),Test_data_accuracy :tensor(0.8546, device='cuda:0')\n",
            "Accuracy after epoch_5 :Training_data_accuracy :tensor(0.8636, device='cuda:0'),Test_data_accuracy :tensor(0.8706, device='cuda:0')\n",
            "Accuracy after epoch_6 :Training_data_accuracy :tensor(0.8770, device='cuda:0'),Test_data_accuracy :tensor(0.8787, device='cuda:0')\n",
            "Accuracy after epoch_7 :Training_data_accuracy :tensor(0.8919, device='cuda:0'),Test_data_accuracy :tensor(0.8745, device='cuda:0')\n",
            "Accuracy after epoch_8 :Training_data_accuracy :tensor(0.9060, device='cuda:0'),Test_data_accuracy :tensor(0.8791, device='cuda:0')\n",
            "Accuracy after epoch_9 :Training_data_accuracy :tensor(0.9170, device='cuda:0'),Test_data_accuracy :tensor(0.8872, device='cuda:0')\n",
            "Accuracy after epoch_10 :Training_data_accuracy :tensor(0.9258, device='cuda:0'),Test_data_accuracy :tensor(0.8830, device='cuda:0')\n",
            "Accuracy after epoch_11 :Training_data_accuracy :tensor(0.9355, device='cuda:0'),Test_data_accuracy :tensor(0.8866, device='cuda:0')\n",
            "Accuracy after epoch_12 :Training_data_accuracy :tensor(0.9475, device='cuda:0'),Test_data_accuracy :tensor(0.8879, device='cuda:0')\n",
            "Accuracy after epoch_13 :Training_data_accuracy :tensor(0.9505, device='cuda:0'),Test_data_accuracy :tensor(0.8814, device='cuda:0')\n",
            "Accuracy after epoch_14 :Training_data_accuracy :tensor(0.9558, device='cuda:0'),Test_data_accuracy :tensor(0.8879, device='cuda:0')\n",
            "Accuracy after epoch_15 :Training_data_accuracy :tensor(0.9605, device='cuda:0'),Test_data_accuracy :tensor(0.8892, device='cuda:0')\n",
            "Accuracy after epoch_16 :Training_data_accuracy :tensor(0.9693, device='cuda:0'),Test_data_accuracy :tensor(0.8931, device='cuda:0')\n",
            "Accuracy after epoch_17 :Training_data_accuracy :tensor(0.9722, device='cuda:0'),Test_data_accuracy :tensor(0.8898, device='cuda:0')\n",
            "Accuracy after epoch_18 :Training_data_accuracy :tensor(0.9717, device='cuda:0'),Test_data_accuracy :tensor(0.8908, device='cuda:0')\n",
            "Accuracy after epoch_19 :Training_data_accuracy :tensor(0.9743, device='cuda:0'),Test_data_accuracy :tensor(0.8973, device='cuda:0')\n",
            "Accuracy after epoch_20 :Training_data_accuracy :tensor(0.9763, device='cuda:0'),Test_data_accuracy :tensor(0.8977, device='cuda:0')\n",
            "Accuracy after epoch_21 :Training_data_accuracy :tensor(0.9799, device='cuda:0'),Test_data_accuracy :tensor(0.8977, device='cuda:0')\n",
            "Accuracy after epoch_22 :Training_data_accuracy :tensor(0.9790, device='cuda:0'),Test_data_accuracy :tensor(0.8970, device='cuda:0')\n",
            "Accuracy after epoch_23 :Training_data_accuracy :tensor(0.9813, device='cuda:0'),Test_data_accuracy :tensor(0.8977, device='cuda:0')\n",
            "Accuracy after epoch_24 :Training_data_accuracy :tensor(0.9820, device='cuda:0'),Test_data_accuracy :tensor(0.8990, device='cuda:0')\n",
            "Accuracy after epoch_25 :Training_data_accuracy :tensor(0.9843, device='cuda:0'),Test_data_accuracy :tensor(0.8983, device='cuda:0')\n",
            "Accuracy after epoch_26 :Training_data_accuracy :tensor(0.9855, device='cuda:0'),Test_data_accuracy :tensor(0.9006, device='cuda:0')\n",
            "Accuracy after epoch_27 :Training_data_accuracy :tensor(0.9852, device='cuda:0'),Test_data_accuracy :tensor(0.8999, device='cuda:0')\n",
            "Accuracy after epoch_28 :Training_data_accuracy :tensor(0.9861, device='cuda:0'),Test_data_accuracy :tensor(0.8967, device='cuda:0')\n",
            "Accuracy after epoch_29 :Training_data_accuracy :tensor(0.9867, device='cuda:0'),Test_data_accuracy :tensor(0.9009, device='cuda:0')\n",
            "Accuracy after epoch_30 :Training_data_accuracy :tensor(0.9869, device='cuda:0'),Test_data_accuracy :tensor(0.8973, device='cuda:0')\n",
            "Accuracy after epoch_31 :Training_data_accuracy :tensor(0.9867, device='cuda:0'),Test_data_accuracy :tensor(0.8960, device='cuda:0')\n",
            "Accuracy after epoch_32 :Training_data_accuracy :tensor(0.9888, device='cuda:0'),Test_data_accuracy :tensor(0.8996, device='cuda:0')\n",
            "Accuracy after epoch_33 :Training_data_accuracy :tensor(0.9899, device='cuda:0'),Test_data_accuracy :tensor(0.9029, device='cuda:0')\n",
            "Accuracy after epoch_34 :Training_data_accuracy :tensor(0.9874, device='cuda:0'),Test_data_accuracy :tensor(0.9009, device='cuda:0')\n",
            "Accuracy after epoch_35 :Training_data_accuracy :tensor(0.9872, device='cuda:0'),Test_data_accuracy :tensor(0.9029, device='cuda:0')\n",
            "Accuracy after epoch_36 :Training_data_accuracy :tensor(0.9892, device='cuda:0'),Test_data_accuracy :tensor(0.9029, device='cuda:0')\n",
            "Accuracy after epoch_37 :Training_data_accuracy :tensor(0.9892, device='cuda:0'),Test_data_accuracy :tensor(0.8990, device='cuda:0')\n",
            "Accuracy after epoch_38 :Training_data_accuracy :tensor(0.9904, device='cuda:0'),Test_data_accuracy :tensor(0.9022, device='cuda:0')\n",
            "Accuracy after epoch_39 :Training_data_accuracy :tensor(0.9901, device='cuda:0'),Test_data_accuracy :tensor(0.9038, device='cuda:0')\n",
            "Accuracy after epoch_40 :Training_data_accuracy :tensor(0.9880, device='cuda:0'),Test_data_accuracy :tensor(0.9048, device='cuda:0')\n"
          ]
        }
      ]
    },
    {
      "cell_type": "code",
      "source": [
        "import torch\n",
        "torch.save(model.state_dict(), \"EAC.pth\")\n"
      ],
      "metadata": {
        "id": "FSNUmQHDDUnk"
      },
      "execution_count": null,
      "outputs": []
    },
    {
      "cell_type": "code",
      "source": [
        "# Load the state dictionary object from file\n",
        "state_dict = torch.load('/content/EAC.pth')\n",
        "\n",
        "# Check the type of the state dictionary object\n",
        "print(type(state_dict))\n",
        "\n",
        "# Check the keys of the state dictionary object\n",
        "print(state_dict.keys())\n"
      ],
      "metadata": {
        "colab": {
          "base_uri": "https://localhost:8080/"
        },
        "id": "nowt9AyJEH5F",
        "outputId": "14596086-eda2-4dd6-f439-e6adeab35536"
      },
      "execution_count": null,
      "outputs": [
        {
          "output_type": "stream",
          "name": "stdout",
          "text": [
            "<class 'collections.OrderedDict'>\n",
            "odict_keys(['features.0.weight', 'features.1.weight', 'features.1.bias', 'features.1.running_mean', 'features.1.running_var', 'features.1.num_batches_tracked', 'features.4.0.conv1.weight', 'features.4.0.bn1.weight', 'features.4.0.bn1.bias', 'features.4.0.bn1.running_mean', 'features.4.0.bn1.running_var', 'features.4.0.bn1.num_batches_tracked', 'features.4.0.conv2.weight', 'features.4.0.bn2.weight', 'features.4.0.bn2.bias', 'features.4.0.bn2.running_mean', 'features.4.0.bn2.running_var', 'features.4.0.bn2.num_batches_tracked', 'features.4.0.conv3.weight', 'features.4.0.bn3.weight', 'features.4.0.bn3.bias', 'features.4.0.bn3.running_mean', 'features.4.0.bn3.running_var', 'features.4.0.bn3.num_batches_tracked', 'features.4.0.downsample.0.weight', 'features.4.0.downsample.1.weight', 'features.4.0.downsample.1.bias', 'features.4.0.downsample.1.running_mean', 'features.4.0.downsample.1.running_var', 'features.4.0.downsample.1.num_batches_tracked', 'features.4.1.conv1.weight', 'features.4.1.bn1.weight', 'features.4.1.bn1.bias', 'features.4.1.bn1.running_mean', 'features.4.1.bn1.running_var', 'features.4.1.bn1.num_batches_tracked', 'features.4.1.conv2.weight', 'features.4.1.bn2.weight', 'features.4.1.bn2.bias', 'features.4.1.bn2.running_mean', 'features.4.1.bn2.running_var', 'features.4.1.bn2.num_batches_tracked', 'features.4.1.conv3.weight', 'features.4.1.bn3.weight', 'features.4.1.bn3.bias', 'features.4.1.bn3.running_mean', 'features.4.1.bn3.running_var', 'features.4.1.bn3.num_batches_tracked', 'features.4.2.conv1.weight', 'features.4.2.bn1.weight', 'features.4.2.bn1.bias', 'features.4.2.bn1.running_mean', 'features.4.2.bn1.running_var', 'features.4.2.bn1.num_batches_tracked', 'features.4.2.conv2.weight', 'features.4.2.bn2.weight', 'features.4.2.bn2.bias', 'features.4.2.bn2.running_mean', 'features.4.2.bn2.running_var', 'features.4.2.bn2.num_batches_tracked', 'features.4.2.conv3.weight', 'features.4.2.bn3.weight', 'features.4.2.bn3.bias', 'features.4.2.bn3.running_mean', 'features.4.2.bn3.running_var', 'features.4.2.bn3.num_batches_tracked', 'features.5.0.conv1.weight', 'features.5.0.bn1.weight', 'features.5.0.bn1.bias', 'features.5.0.bn1.running_mean', 'features.5.0.bn1.running_var', 'features.5.0.bn1.num_batches_tracked', 'features.5.0.conv2.weight', 'features.5.0.bn2.weight', 'features.5.0.bn2.bias', 'features.5.0.bn2.running_mean', 'features.5.0.bn2.running_var', 'features.5.0.bn2.num_batches_tracked', 'features.5.0.conv3.weight', 'features.5.0.bn3.weight', 'features.5.0.bn3.bias', 'features.5.0.bn3.running_mean', 'features.5.0.bn3.running_var', 'features.5.0.bn3.num_batches_tracked', 'features.5.0.downsample.0.weight', 'features.5.0.downsample.1.weight', 'features.5.0.downsample.1.bias', 'features.5.0.downsample.1.running_mean', 'features.5.0.downsample.1.running_var', 'features.5.0.downsample.1.num_batches_tracked', 'features.5.1.conv1.weight', 'features.5.1.bn1.weight', 'features.5.1.bn1.bias', 'features.5.1.bn1.running_mean', 'features.5.1.bn1.running_var', 'features.5.1.bn1.num_batches_tracked', 'features.5.1.conv2.weight', 'features.5.1.bn2.weight', 'features.5.1.bn2.bias', 'features.5.1.bn2.running_mean', 'features.5.1.bn2.running_var', 'features.5.1.bn2.num_batches_tracked', 'features.5.1.conv3.weight', 'features.5.1.bn3.weight', 'features.5.1.bn3.bias', 'features.5.1.bn3.running_mean', 'features.5.1.bn3.running_var', 'features.5.1.bn3.num_batches_tracked', 'features.5.2.conv1.weight', 'features.5.2.bn1.weight', 'features.5.2.bn1.bias', 'features.5.2.bn1.running_mean', 'features.5.2.bn1.running_var', 'features.5.2.bn1.num_batches_tracked', 'features.5.2.conv2.weight', 'features.5.2.bn2.weight', 'features.5.2.bn2.bias', 'features.5.2.bn2.running_mean', 'features.5.2.bn2.running_var', 'features.5.2.bn2.num_batches_tracked', 'features.5.2.conv3.weight', 'features.5.2.bn3.weight', 'features.5.2.bn3.bias', 'features.5.2.bn3.running_mean', 'features.5.2.bn3.running_var', 'features.5.2.bn3.num_batches_tracked', 'features.5.3.conv1.weight', 'features.5.3.bn1.weight', 'features.5.3.bn1.bias', 'features.5.3.bn1.running_mean', 'features.5.3.bn1.running_var', 'features.5.3.bn1.num_batches_tracked', 'features.5.3.conv2.weight', 'features.5.3.bn2.weight', 'features.5.3.bn2.bias', 'features.5.3.bn2.running_mean', 'features.5.3.bn2.running_var', 'features.5.3.bn2.num_batches_tracked', 'features.5.3.conv3.weight', 'features.5.3.bn3.weight', 'features.5.3.bn3.bias', 'features.5.3.bn3.running_mean', 'features.5.3.bn3.running_var', 'features.5.3.bn3.num_batches_tracked', 'features.6.0.conv1.weight', 'features.6.0.bn1.weight', 'features.6.0.bn1.bias', 'features.6.0.bn1.running_mean', 'features.6.0.bn1.running_var', 'features.6.0.bn1.num_batches_tracked', 'features.6.0.conv2.weight', 'features.6.0.bn2.weight', 'features.6.0.bn2.bias', 'features.6.0.bn2.running_mean', 'features.6.0.bn2.running_var', 'features.6.0.bn2.num_batches_tracked', 'features.6.0.conv3.weight', 'features.6.0.bn3.weight', 'features.6.0.bn3.bias', 'features.6.0.bn3.running_mean', 'features.6.0.bn3.running_var', 'features.6.0.bn3.num_batches_tracked', 'features.6.0.downsample.0.weight', 'features.6.0.downsample.1.weight', 'features.6.0.downsample.1.bias', 'features.6.0.downsample.1.running_mean', 'features.6.0.downsample.1.running_var', 'features.6.0.downsample.1.num_batches_tracked', 'features.6.1.conv1.weight', 'features.6.1.bn1.weight', 'features.6.1.bn1.bias', 'features.6.1.bn1.running_mean', 'features.6.1.bn1.running_var', 'features.6.1.bn1.num_batches_tracked', 'features.6.1.conv2.weight', 'features.6.1.bn2.weight', 'features.6.1.bn2.bias', 'features.6.1.bn2.running_mean', 'features.6.1.bn2.running_var', 'features.6.1.bn2.num_batches_tracked', 'features.6.1.conv3.weight', 'features.6.1.bn3.weight', 'features.6.1.bn3.bias', 'features.6.1.bn3.running_mean', 'features.6.1.bn3.running_var', 'features.6.1.bn3.num_batches_tracked', 'features.6.2.conv1.weight', 'features.6.2.bn1.weight', 'features.6.2.bn1.bias', 'features.6.2.bn1.running_mean', 'features.6.2.bn1.running_var', 'features.6.2.bn1.num_batches_tracked', 'features.6.2.conv2.weight', 'features.6.2.bn2.weight', 'features.6.2.bn2.bias', 'features.6.2.bn2.running_mean', 'features.6.2.bn2.running_var', 'features.6.2.bn2.num_batches_tracked', 'features.6.2.conv3.weight', 'features.6.2.bn3.weight', 'features.6.2.bn3.bias', 'features.6.2.bn3.running_mean', 'features.6.2.bn3.running_var', 'features.6.2.bn3.num_batches_tracked', 'features.6.3.conv1.weight', 'features.6.3.bn1.weight', 'features.6.3.bn1.bias', 'features.6.3.bn1.running_mean', 'features.6.3.bn1.running_var', 'features.6.3.bn1.num_batches_tracked', 'features.6.3.conv2.weight', 'features.6.3.bn2.weight', 'features.6.3.bn2.bias', 'features.6.3.bn2.running_mean', 'features.6.3.bn2.running_var', 'features.6.3.bn2.num_batches_tracked', 'features.6.3.conv3.weight', 'features.6.3.bn3.weight', 'features.6.3.bn3.bias', 'features.6.3.bn3.running_mean', 'features.6.3.bn3.running_var', 'features.6.3.bn3.num_batches_tracked', 'features.6.4.conv1.weight', 'features.6.4.bn1.weight', 'features.6.4.bn1.bias', 'features.6.4.bn1.running_mean', 'features.6.4.bn1.running_var', 'features.6.4.bn1.num_batches_tracked', 'features.6.4.conv2.weight', 'features.6.4.bn2.weight', 'features.6.4.bn2.bias', 'features.6.4.bn2.running_mean', 'features.6.4.bn2.running_var', 'features.6.4.bn2.num_batches_tracked', 'features.6.4.conv3.weight', 'features.6.4.bn3.weight', 'features.6.4.bn3.bias', 'features.6.4.bn3.running_mean', 'features.6.4.bn3.running_var', 'features.6.4.bn3.num_batches_tracked', 'features.6.5.conv1.weight', 'features.6.5.bn1.weight', 'features.6.5.bn1.bias', 'features.6.5.bn1.running_mean', 'features.6.5.bn1.running_var', 'features.6.5.bn1.num_batches_tracked', 'features.6.5.conv2.weight', 'features.6.5.bn2.weight', 'features.6.5.bn2.bias', 'features.6.5.bn2.running_mean', 'features.6.5.bn2.running_var', 'features.6.5.bn2.num_batches_tracked', 'features.6.5.conv3.weight', 'features.6.5.bn3.weight', 'features.6.5.bn3.bias', 'features.6.5.bn3.running_mean', 'features.6.5.bn3.running_var', 'features.6.5.bn3.num_batches_tracked', 'features.7.0.conv1.weight', 'features.7.0.bn1.weight', 'features.7.0.bn1.bias', 'features.7.0.bn1.running_mean', 'features.7.0.bn1.running_var', 'features.7.0.bn1.num_batches_tracked', 'features.7.0.conv2.weight', 'features.7.0.bn2.weight', 'features.7.0.bn2.bias', 'features.7.0.bn2.running_mean', 'features.7.0.bn2.running_var', 'features.7.0.bn2.num_batches_tracked', 'features.7.0.conv3.weight', 'features.7.0.bn3.weight', 'features.7.0.bn3.bias', 'features.7.0.bn3.running_mean', 'features.7.0.bn3.running_var', 'features.7.0.bn3.num_batches_tracked', 'features.7.0.downsample.0.weight', 'features.7.0.downsample.1.weight', 'features.7.0.downsample.1.bias', 'features.7.0.downsample.1.running_mean', 'features.7.0.downsample.1.running_var', 'features.7.0.downsample.1.num_batches_tracked', 'features.7.1.conv1.weight', 'features.7.1.bn1.weight', 'features.7.1.bn1.bias', 'features.7.1.bn1.running_mean', 'features.7.1.bn1.running_var', 'features.7.1.bn1.num_batches_tracked', 'features.7.1.conv2.weight', 'features.7.1.bn2.weight', 'features.7.1.bn2.bias', 'features.7.1.bn2.running_mean', 'features.7.1.bn2.running_var', 'features.7.1.bn2.num_batches_tracked', 'features.7.1.conv3.weight', 'features.7.1.bn3.weight', 'features.7.1.bn3.bias', 'features.7.1.bn3.running_mean', 'features.7.1.bn3.running_var', 'features.7.1.bn3.num_batches_tracked', 'features.7.2.conv1.weight', 'features.7.2.bn1.weight', 'features.7.2.bn1.bias', 'features.7.2.bn1.running_mean', 'features.7.2.bn1.running_var', 'features.7.2.bn1.num_batches_tracked', 'features.7.2.conv2.weight', 'features.7.2.bn2.weight', 'features.7.2.bn2.bias', 'features.7.2.bn2.running_mean', 'features.7.2.bn2.running_var', 'features.7.2.bn2.num_batches_tracked', 'features.7.2.conv3.weight', 'features.7.2.bn3.weight', 'features.7.2.bn3.bias', 'features.7.2.bn3.running_mean', 'features.7.2.bn3.running_var', 'features.7.2.bn3.num_batches_tracked', 'fc.weight', 'fc.bias'])\n"
          ]
        }
      ]
    },
    {
      "cell_type": "code",
      "source": [
        "import os\n",
        "\n",
        "# Get the path to the file\n",
        "file_path = \"/content/drive/MyDrive/resnet50_ft_weight (1).pkl\"\n",
        "\n",
        "# Get the size of the file in bytes\n",
        "file_size = os.path.getsize(file_path)\n",
        "\n",
        "# Print the file size in bytes\n",
        "print(\"File size:\", file_size, \"bytes\")\n",
        "\n",
        "# Convert the file size to kilobytes\n",
        "file_size_kb = file_size / 1024\n",
        "print(\"File size:\", file_size_kb, \"KB\")\n",
        "\n",
        "# Convert the file size to megabytes\n",
        "file_size_mb = file_size / (1024 * 1024)\n",
        "print(\"File size:\", file_size_mb, \"MB\")\n"
      ],
      "metadata": {
        "colab": {
          "base_uri": "https://localhost:8080/"
        },
        "id": "xPXKUD2Y4LMm",
        "outputId": "9fa83200-69d1-4366-a2f4-5e598c9e985c"
      },
      "execution_count": null,
      "outputs": [
        {
          "output_type": "stream",
          "name": "stdout",
          "text": [
            "File size: 165000856 bytes\n",
            "File size: 161133.6484375 KB\n",
            "File size: 157.3570785522461 MB\n"
          ]
        }
      ]
    },
    {
      "cell_type": "code",
      "source": [
        "# Load the state dictionary object from file\n",
        "state_dict = torch.load('/content/EAC.pth')\n",
        "\n",
        "# Check the type of the state dictionary object\n",
        "print(type(state_dict))\n",
        "\n",
        "# Check the keys of the state dictionary object\n",
        "#print(state_dict.keys())\n"
      ],
      "metadata": {
        "colab": {
          "base_uri": "https://localhost:8080/"
        },
        "id": "j6gZuvzwCceg",
        "outputId": "aecf9290-b9a0-4bd0-9a70-fd1bb2596a4d"
      },
      "execution_count": null,
      "outputs": [
        {
          "output_type": "stream",
          "name": "stdout",
          "text": [
            "<class 'method'>\n"
          ]
        }
      ]
    },
    {
      "cell_type": "code",
      "source": [
        "setup_seed(0)\n",
        "\n",
        "eval_transforms = transforms.Compose([\n",
        "        transforms.ToPILImage(),\n",
        "        transforms.Resize((224, 224)),\n",
        "        transforms.ToTensor(),\n",
        "        transforms.Normalize(mean=[0.485, 0.456, 0.406],\n",
        "                             std=[0.229, 0.224, 0.225])])\n",
        "\n",
        "\n",
        "\n",
        "\n",
        "test_dataset = RafDataset(args, phase='test', transform=eval_transforms)\n",
        "\n",
        "test_loader = torch.utils.data.DataLoader(test_dataset, batch_size=args.batch_size,\n",
        "                                              shuffle=False,\n",
        "                                              num_workers=2,\n",
        "                                              pin_memory=True)\n",
        "\n",
        "device = torch.device ('cuda:0' if torch.cuda.is_available() else 'cpu')\n",
        "\n",
        "\n",
        "\n",
        "model = Model(args)\n",
        "model.load_state_dict(torch.load('/content/EAC_Final.pth'))\n",
        "\n",
        "\n",
        "model.eval()\n",
        "with torch.no_grad():\n",
        "    correct = 0\n",
        "    total = 0\n",
        "    for batch_i, (imgs1, labels, indexes, imgs2) in enumerate(test_loader):\n",
        "        imgs1 = imgs1.to(device)\n",
        "        labels = labels.to(device)\n",
        "        model= model.to(device)\n",
        "        outputs1, _ = model(imgs1)\n",
        "        _, predicted = torch.max(outputs1, 1)\n",
        "        total += labels.size(0)\n",
        "        correct += (predicted == labels).sum().item()\n",
        "\n",
        "    print('Accuracy of model is : {} %' .format(100*correct/total))"
      ],
      "metadata": {
        "colab": {
          "base_uri": "https://localhost:8080/"
        },
        "id": "cicQT4rZi7C7",
        "outputId": "874b9c90-95b3-429f-e099-151aa8fbac46"
      },
      "execution_count": null,
      "outputs": [
        {
          "output_type": "stream",
          "name": "stdout",
          "text": [
            "Accuracy of model is : 90.48239895697523 %\n"
          ]
        }
      ]
    },
    {
      "cell_type": "code",
      "source": [
        "model = Model(args)\n",
        "model.load_state_dict(torch.load('/content/EAC_Final.pth'))\n"
      ],
      "metadata": {
        "id": "aK3aqoBGSv4h",
        "colab": {
          "base_uri": "https://localhost:8080/"
        },
        "outputId": "fb155c83-d1b8-4f00-d800-25d38b59419e"
      },
      "execution_count": null,
      "outputs": [
        {
          "output_type": "execute_result",
          "data": {
            "text/plain": [
              "<All keys matched successfully>"
            ]
          },
          "metadata": {},
          "execution_count": 26
        }
      ]
    },
    {
      "cell_type": "code",
      "source": [
        "nb_classes = 7\n",
        "eval_transforms = transforms.Compose([\n",
        "        transforms.ToPILImage(),\n",
        "        transforms.Resize((224, 224)),\n",
        "        transforms.ToTensor(),\n",
        "        transforms.Normalize(mean=[0.485, 0.456, 0.406],\n",
        "                             std=[0.229, 0.224, 0.225])])\n",
        "\n",
        "device = torch.device ('cuda:0' if torch.cuda.is_available() else 'cpu')\n",
        "test_dataset = RafDataset(args, phase='test', transform=eval_transforms)\n",
        "test_loader = torch.utils.data.DataLoader(test_dataset, batch_size=args.batch_size,\n",
        "                                              shuffle=False,\n",
        "                                              num_workers=2,\n",
        "                                              pin_memory=True)\n",
        "confusion_matrix = torch.zeros(nb_classes, nb_classes)\n",
        "model.eval()\n",
        "with torch.no_grad():\n",
        "    for i, (images, labels,indexes,img1) in enumerate(test_loader):\n",
        "        images = images.to(device)\n",
        "        labels = labels.to(device)\n",
        "        outputs,_ = model(images)\n",
        "        _, preds = torch.max(outputs, 1)\n",
        "        for t, p in zip(labels.view(-1), preds.view(-1)):\n",
        "                confusion_matrix[t.long(), p.long()] += 1\n",
        "\n",
        "print(confusion_matrix)\n",
        "print(confusion_matrix.diag()/confusion_matrix.sum(1))"
      ],
      "metadata": {
        "colab": {
          "base_uri": "https://localhost:8080/"
        },
        "id": "4ZslgiRvTLIZ",
        "outputId": "8be208e6-9b11-448a-a24b-41d9b24bf6d4"
      },
      "execution_count": null,
      "outputs": [
        {
          "output_type": "stream",
          "name": "stdout",
          "text": [
            "tensor([[2.8500e+02, 8.0000e+00, 3.0000e+00, 5.0000e+00, 3.0000e+00, 9.0000e+00,\n",
            "         1.6000e+01],\n",
            "        [9.0000e+00, 5.0000e+01, 1.0000e+00, 3.0000e+00, 7.0000e+00, 2.0000e+00,\n",
            "         2.0000e+00],\n",
            "        [3.0000e+00, 1.0000e+00, 1.1900e+02, 8.0000e+00, 9.0000e+00, 1.0000e+01,\n",
            "         1.0000e+01],\n",
            "        [4.0000e+00, 1.0000e+00, 7.0000e+00, 1.1390e+03, 5.0000e+00, 3.0000e+00,\n",
            "         2.6000e+01],\n",
            "        [0.0000e+00, 3.0000e+00, 1.1000e+01, 8.0000e+00, 4.2000e+02, 1.0000e+00,\n",
            "         3.5000e+01],\n",
            "        [2.0000e+00, 1.0000e+00, 7.0000e+00, 2.0000e+00, 1.0000e+00, 1.4000e+02,\n",
            "         9.0000e+00],\n",
            "        [9.0000e+00, 0.0000e+00, 9.0000e+00, 1.8000e+01, 2.1000e+01, 0.0000e+00,\n",
            "         6.2300e+02]])\n",
            "tensor([0.8663, 0.6757, 0.7437, 0.9612, 0.8787, 0.8642, 0.9162])\n"
          ]
        }
      ]
    },
    {
      "cell_type": "code",
      "source": [
        "import pandas as pd\n",
        "import seaborn as sns\n",
        "import matplotlib.pyplot as plt\n",
        "\n",
        "\n",
        "plt.figure(figsize=(15,10))\n",
        "\n",
        "\n",
        "class_names = ['Surprise' , 'Fear' , 'Disgust' , 'Happiness' , 'Sadness' ,'Anger' ,'Neutral']\n",
        "df_cm = pd.DataFrame(confusion_matrix, index=class_names, columns=class_names).astype(int)\n",
        "heatmap = sns.heatmap(df_cm, annot=True, fmt=\"d\")\n",
        "\n",
        "heatmap.yaxis.set_ticklabels(heatmap.yaxis.get_ticklabels(), rotation=0, ha='right',fontsize=15)\n",
        "heatmap.xaxis.set_ticklabels(heatmap.xaxis.get_ticklabels(), rotation=45, ha='right',fontsize=15)\n",
        "plt.ylabel('True label')\n",
        "plt.xlabel('Predicted label')\n"
      ],
      "metadata": {
        "colab": {
          "base_uri": "https://localhost:8080/",
          "height": 756
        },
        "id": "lBDZTRFmVTDh",
        "outputId": "64c17413-d3c2-4ef9-dee9-ae72a1ea6c82"
      },
      "execution_count": null,
      "outputs": [
        {
          "output_type": "execute_result",
          "data": {
            "text/plain": [
              "Text(0.5, 80.7222222222222, 'Predicted label')"
            ]
          },
          "metadata": {},
          "execution_count": 35
        },
        {
          "output_type": "display_data",
          "data": {
            "text/plain": [
              "<Figure size 1500x1000 with 2 Axes>"
            ],
            "image/png": "[encoded data removed]"
          },
          "metadata": {}
        }
      ]
    }
  ]
}